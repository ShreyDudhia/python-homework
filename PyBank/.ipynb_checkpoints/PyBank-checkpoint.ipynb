{
 "cells": [
  {
   "cell_type": "code",
   "execution_count": 1,
   "metadata": {},
   "outputs": [],
   "source": [
    "from pathlib import Path"
   ]
  },
  {
   "cell_type": "code",
   "execution_count": 2,
   "metadata": {},
   "outputs": [],
   "source": [
    "import os\n"
   ]
  },
  {
   "cell_type": "code",
   "execution_count": 3,
   "metadata": {},
   "outputs": [],
   "source": [
    "import csv"
   ]
  },
  {
   "cell_type": "code",
   "execution_count": 4,
   "metadata": {},
   "outputs": [],
   "source": [
    "csvpath = Path(\"Homework_02-Python_Instructions_PyBank_Resources_budget_data.csv\")"
   ]
  },
  {
   "cell_type": "markdown",
   "metadata": {},
   "source": [
    "The total number of months included in the dataset.\n",
    "The net total amount of Profit/Losses over the entire period.\n",
    "The average of the changes in Profit/Losses over the entire period.\n",
    "The greatest increase in profits (date and amount) over the entire period.\n",
    "The greatest decrease in losses (date and amount) over the entire period.\n",
    "\n",
    "Your resulting analysis should look similar to the following:\n",
    "\n",
    "Financial Analysis\n",
    "----------------------------\n",
    "Total Months: 86\n",
    "Total: 38382578\n",
    "Average  Change: -2315.12\n",
    "Greatest Increase in Profits: Feb-2012 (1926159)\n",
    "Greatest Decrease in Profits: Sep-2013 (-2196167)\n"
   ]
  },
  {
   "cell_type": "code",
   "execution_count": 5,
   "metadata": {},
   "outputs": [],
   "source": [
    "date = []\n",
    "profit = []"
   ]
  },
  {
   "cell_type": "code",
   "execution_count": 29,
   "metadata": {},
   "outputs": [
    {
     "name": "stdout",
     "output_type": "stream",
     "text": [
      "<class '_io.TextIOWrapper'>\n",
      "<class 'pathlib.PosixPath'>\n",
      "<class '_csv.reader'>\n",
      "['Date', 'Profit/Losses']\n",
      "[116771, -662642, -391430, 379920, 212354, 510239, -428211, -821271, 693918, 416278, -974163, 860159, -1115009, 1033048, 95318, -308093, 99052, -521393, 605450, 231727, -65187, -702716, 177975, -1065544, 1926159, -917805, 898730, -334262, -246499, -64055, -1529236, 1497596, 304914, -635801, 398319, -183161, -37864, -253689, 403655, 94168, 306877, -83000, 210462, -2196167, 1465222, -956983, 1838447, -468003, -64602, 206242, -242155, -449079, 315198, 241099, 111540, 365942, -219310, -368665, 409837, 151210, -110244, -341938, -1212159, 683246, -70825, 335594, 417334, -272194, -236462, 657432, -211262, -128237, -1750387, 925441, 932089, -311434, 267252, -1876758, 1733696, 198551, -665765, 693229, -734926, 77242, 532869]\n",
      "86\n",
      "38382578\n",
      "Feb-2017\n",
      "['Sep-2013', -2196167]\n",
      "['Feb-2012', 1926159]\n"
     ]
    }
   ],
   "source": [
    "total_months = 0\n",
    "total_profit = 0\n",
    "Avg_Change = 0\n",
    "net_total= 0\n",
    "line_num = 0\n",
    "greatest_increase = [\"Date\", 0]\n",
    "greatest_decrease = [\"Date\", 0]\n",
    "net_change = 0\n",
    "with open(csvpath, 'r') as csvfile:\n",
    "\n",
    "    print(type(csvfile))\n",
    "    print(type(csvpath))\n",
    "\n",
    "   \n",
    "    csvreader = csv.reader(csvfile, delimiter=',')\n",
    "  \n",
    "    print(type(csvreader))\n",
    "\n",
    "   \n",
    "    header = next(csvreader)\n",
    "    \n",
    "    line_num += 1\n",
    "   \n",
    "    print(f\"{header}\")\n",
    "    prev_value = 867884\n",
    "    net_change_list = []\n",
    "    \n",
    "    \n",
    "    greatest_increase = [\"Date\", 0]\n",
    "    greatest_decrease = [\"Date\", 999999999999]\n",
    "    \n",
    "    for row in csvreader:\n",
    "#         print(row[1])\n",
    "        \n",
    "        total_months += 1\n",
    "        date = (row[0])\n",
    "        total_profit += int(row[1])\n",
    "        net_total += total_profit\n",
    "        if total_months > 1:\n",
    "            net_change =int(row[1]) - prev_value\n",
    "            prev_value = int(row[1])\n",
    "            net_change_list.append(net_change)\n",
    "            \n",
    "        \n",
    "        \n",
    "            if net_change > greatest_increase[1]:\n",
    "                greatest_increase[0] = date\n",
    "                greatest_increase[1] = net_change\n",
    "            if net_change < greatest_decrease[1]:\n",
    "                greatest_decrease[0] = date\n",
    "                greatest_decrease[1] = net_change\n",
    "    \n",
    "\n",
    "    print(net_change_list)\n",
    "    print(total_months)\n",
    "    print(total_profit)\n",
    "    print(date)\n",
    "    print(greatest_decrease)\n",
    "    print(greatest_increase)\n",
    "    \n",
    "    \n",
    "    \n",
    "   "
   ]
  },
  {
   "cell_type": "code",
   "execution_count": 26,
   "metadata": {},
   "outputs": [
    {
     "name": "stdout",
     "output_type": "stream",
     "text": [
      "['Jan-2010', '867884']\n",
      "['Feb-2010', '984655']\n",
      "['Mar-2010', '322013']\n",
      "['Apr-2010', '-69417']\n",
      "['May-2010', '310503']\n",
      "['Jun-2010', '522857']\n",
      "['Jul-2010', '1033096']\n",
      "['Aug-2010', '604885']\n",
      "['Sep-2010', '-216386']\n",
      "['Oct-2010', '477532']\n",
      "['Nov-2010', '893810']\n",
      "['Dec-2010', '-80353']\n",
      "['Jan-2011', '779806']\n",
      "['Feb-2011', '-335203']\n",
      "['Mar-2011', '697845']\n",
      "['Apr-2011', '793163']\n",
      "['May-2011', '485070']\n",
      "['Jun-2011', '584122']\n",
      "['Jul-2011', '62729']\n",
      "['Aug-2011', '668179']\n",
      "['Sep-2011', '899906']\n",
      "['Oct-2011', '834719']\n",
      "['Nov-2011', '132003']\n",
      "['Dec-2011', '309978']\n",
      "['Jan-2012', '-755566']\n",
      "['Feb-2012', '1170593']\n",
      "['Mar-2012', '252788']\n",
      "['Apr-2012', '1151518']\n",
      "['May-2012', '817256']\n",
      "['Jun-2012', '570757']\n",
      "['Jul-2012', '506702']\n",
      "['Aug-2012', '-1022534']\n",
      "['Sep-2012', '475062']\n",
      "['Oct-2012', '779976']\n",
      "['Nov-2012', '144175']\n",
      "['Dec-2012', '542494']\n",
      "['Jan-2013', '359333']\n",
      "['Feb-2013', '321469']\n",
      "['Mar-2013', '67780']\n",
      "['Apr-2013', '471435']\n",
      "['May-2013', '565603']\n",
      "['Jun-2013', '872480']\n",
      "['Jul-2013', '789480']\n",
      "['Aug-2013', '999942']\n",
      "['Sep-2013', '-1196225']\n",
      "['Oct-2013', '268997']\n",
      "['Nov-2013', '-687986']\n",
      "['Dec-2013', '1150461']\n",
      "['Jan-2014', '682458']\n",
      "['Feb-2014', '617856']\n",
      "['Mar-2014', '824098']\n",
      "['Apr-2014', '581943']\n",
      "['May-2014', '132864']\n",
      "['Jun-2014', '448062']\n",
      "['Jul-2014', '689161']\n",
      "['Aug-2014', '800701']\n",
      "['Sep-2014', '1166643']\n",
      "['Oct-2014', '947333']\n",
      "['Nov-2014', '578668']\n",
      "['Dec-2014', '988505']\n",
      "['Jan-2015', '1139715']\n",
      "['Feb-2015', '1029471']\n",
      "['Mar-2015', '687533']\n",
      "['Apr-2015', '-524626']\n",
      "['May-2015', '158620']\n",
      "['Jun-2015', '87795']\n",
      "['Jul-2015', '423389']\n",
      "['Aug-2015', '840723']\n",
      "['Sep-2015', '568529']\n",
      "['Oct-2015', '332067']\n",
      "['Nov-2015', '989499']\n",
      "['Dec-2015', '778237']\n",
      "['Jan-2016', '650000']\n",
      "['Feb-2016', '-1100387']\n",
      "['Mar-2016', '-174946']\n",
      "['Apr-2016', '757143']\n",
      "['May-2016', '445709']\n",
      "['Jun-2016', '712961']\n",
      "['Jul-2016', '-1163797']\n",
      "['Aug-2016', '569899']\n",
      "['Sep-2016', '768450']\n",
      "['Oct-2016', '102685']\n",
      "['Nov-2016', '795914']\n",
      "['Dec-2016', '60988']\n",
      "['Jan-2017', '138230']\n",
      "['Feb-2017', '671099']\n"
     ]
    }
   ],
   "source": [
    "with open(csvpath, 'r') as csvfile:\n",
    "   \n",
    "    csvreader = csv.reader(csvfile, delimiter=',')\n",
    "    header = next(csvreader)\n",
    "    first_row = next(csvreader)\n",
    "    print(first_row)\n",
    "    for row in csvreader:\n",
    "        print(row)\n"
   ]
  },
  {
   "cell_type": "code",
   "execution_count": 40,
   "metadata": {},
   "outputs": [],
   "source": [
    "  average = (sum(net_change_list) / (total_months - 1))"
   ]
  },
  {
   "cell_type": "code",
   "execution_count": 41,
   "metadata": {},
   "outputs": [
    {
     "name": "stdout",
     "output_type": "stream",
     "text": [
      "Financial Analysis\n",
      "\n",
      "----------------------------\n",
      "\n",
      "Total Months: 1 \n",
      "Total Revenue in period: $ 38382578\n",
      "Average monthly change in Revenue : $-2315.1176470588234\n",
      "Greatest Increase in Profits: Feb-2012 (1926159)\n",
      "Greatest Decrease in Profits: Sep-2013 (-2196167)\n"
     ]
    }
   ],
   "source": [
    "print(f'Financial Analysis'+'\\n')\n",
    "print(f'----------------------------'+'\\n')\n",
    "\n",
    "\n",
    "print(f\"Total Months: {line_num} \")\n",
    "\n",
    "print(\"Total Revenue in period: $ \" + str(total_profit))\n",
    "      \n",
    "print(\"Average monthly change in Revenue : $\" + str(average))\n",
    "\n",
    "print(f'Greatest Increase in Profits: {greatest_increase[0]} ({greatest_increase[1]})')\n",
    "\n",
    "print(f'Greatest Decrease in Profits: {greatest_decrease[0]} ({greatest_decrease[1]})')"
   ]
  },
  {
   "cell_type": "code",
   "execution_count": null,
   "metadata": {},
   "outputs": [],
   "source": []
  },
  {
   "cell_type": "code",
   "execution_count": null,
   "metadata": {},
   "outputs": [],
   "source": []
  }
 ],
 "metadata": {
  "kernelspec": {
   "display_name": "Python 3",
   "language": "python",
   "name": "python3"
  },
  "language_info": {
   "codemirror_mode": {
    "name": "ipython",
    "version": 3
   },
   "file_extension": ".py",
   "mimetype": "text/x-python",
   "name": "python",
   "nbconvert_exporter": "python",
   "pygments_lexer": "ipython3",
   "version": "3.8.3"
  }
 },
 "nbformat": 4,
 "nbformat_minor": 4
}
