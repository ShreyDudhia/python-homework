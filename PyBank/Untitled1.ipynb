{
 "cells": [
  {
   "cell_type": "code",
   "execution_count": 1,
   "metadata": {},
   "outputs": [],
   "source": [
    "from pathlib import Path"
   ]
  },
  {
   "cell_type": "code",
   "execution_count": 2,
   "metadata": {},
   "outputs": [],
   "source": [
    "import os\n"
   ]
  },
  {
   "cell_type": "code",
   "execution_count": 3,
   "metadata": {},
   "outputs": [],
   "source": [
    "import csv"
   ]
  },
  {
   "cell_type": "code",
   "execution_count": 11,
   "metadata": {},
   "outputs": [],
   "source": [
    "csvpath = Path(\"Homework_02-Python_Instructions_PyBank_Resources_budget_data.csv\")"
   ]
  },
  {
   "cell_type": "code",
   "execution_count": 5,
   "metadata": {},
   "outputs": [],
   "source": [
    "line_num = 0"
   ]
  },
  {
   "cell_type": "code",
   "execution_count": 6,
   "metadata": {},
   "outputs": [],
   "source": [
    "date = []\n",
    "profit = []"
   ]
  },
  {
   "cell_type": "code",
   "execution_count": 59,
   "metadata": {},
   "outputs": [
    {
     "name": "stdout",
     "output_type": "stream",
     "text": [
      "<class 'pathlib.PosixPath'>\n",
      "<class '_csv.reader'>\n",
      "['Date', 'Profit/Losses']\n",
      "867884\n",
      "984655\n",
      "322013\n",
      "-69417\n",
      "310503\n",
      "522857\n",
      "1033096\n",
      "604885\n",
      "-216386\n",
      "477532\n",
      "893810\n",
      "-80353\n",
      "779806\n",
      "-335203\n",
      "697845\n",
      "793163\n",
      "485070\n",
      "584122\n",
      "62729\n",
      "668179\n",
      "899906\n",
      "834719\n",
      "132003\n",
      "309978\n",
      "-755566\n",
      "1170593\n",
      "252788\n",
      "1151518\n",
      "817256\n",
      "570757\n",
      "506702\n",
      "-1022534\n",
      "475062\n",
      "779976\n",
      "144175\n",
      "542494\n",
      "359333\n",
      "321469\n",
      "67780\n",
      "471435\n",
      "565603\n",
      "872480\n",
      "789480\n",
      "999942\n",
      "-1196225\n",
      "268997\n",
      "-687986\n",
      "1150461\n",
      "682458\n",
      "617856\n",
      "824098\n",
      "581943\n",
      "132864\n",
      "448062\n",
      "689161\n",
      "800701\n",
      "1166643\n",
      "947333\n",
      "578668\n",
      "988505\n",
      "1139715\n",
      "1029471\n",
      "687533\n",
      "-524626\n",
      "158620\n",
      "87795\n",
      "423389\n",
      "840723\n",
      "568529\n",
      "332067\n",
      "989499\n",
      "778237\n",
      "650000\n",
      "-1100387\n",
      "-174946\n",
      "757143\n",
      "445709\n",
      "712961\n",
      "-1163797\n",
      "569899\n",
      "768450\n",
      "102685\n",
      "795914\n",
      "60988\n",
      "138230\n",
      "671099\n",
      "86\n",
      "38382578\n"
     ]
    }
   ],
   "source": [
    "total_months = 0\n",
    "total_profit = 0\n",
    "Avg_Change = 0\n",
    "net_total= 0\n",
    "line_num = 0\n",
    "greatest_increase = [\"Date\", 0]\n",
    "greatest_decrease = [\"Date\", 0]\n",
    "\n",
    "with open(csvpath, 'r') as csvfile:\n",
    "\n",
    "   \n",
    "    print(type(csvpath))\n",
    "\n",
    "   \n",
    "    csvreader = csv.reader(csvfile, delimiter=',')\n",
    "  \n",
    "    print(type(csvreader))\n",
    "\n",
    "   \n",
    "    header = next(csvreader)\n",
    "    \n",
    "    line_num += 1\n",
    "   \n",
    "    print(f\"{header}\")\n",
    "    \n",
    "    for row in csvreader:\n",
    "        \n",
    "        print(row[1])\n",
    "\n",
    "        total_months += 1\n",
    "        current_month = int(row[1])\n",
    "        total_profit += int(row[1])\n",
    "        net_total += total_profit\n",
    "        if total_profit > greatest_increase[1]:\n",
    "            greatest_increase[0] = date\n",
    "            greatest_increase[1] = total_profit\n",
    "        if total_profit < greatest_decrease[1]:\n",
    "            greatest_decrease[0] = date\n",
    "            greatest_decrease[1] = total_profit\n",
    "    \n",
    "    print(total_months)\n",
    "    print(total_profit)\n",
    "    \n",
    "    \n",
    "   "
   ]
  },
  {
   "cell_type": "code",
   "execution_count": 55,
   "metadata": {},
   "outputs": [],
   "source": [
    "Avg_change = round(net_total/total_months)\n"
   ]
  },
  {
   "cell_type": "code",
   "execution_count": 62,
   "metadata": {},
   "outputs": [
    {
     "name": "stdout",
     "output_type": "stream",
     "text": [
      "Financial Analysis\n",
      "\n",
      "----------------------------\n",
      "\n",
      "Total Months: 1 \n",
      "Total Revenue in period: $ 38382578\n",
      "Average monthly change in Revenue : $20068624\n",
      "Greatest Increase in Profits: [] (38382578)\n",
      "Greatest Decrease in Profits: Date (0)\n"
     ]
    }
   ],
   "source": [
    "print(f'Financial Analysis'+'\\n')\n",
    "print(f'----------------------------'+'\\n')\n",
    "\n",
    "\n",
    "print(f\"Total Months: {line_num} \")\n",
    "\n",
    "print(\"Total Revenue in period: $ \" + str(total_profit))\n",
    "      \n",
    "print(\"Average monthly change in Revenue : $\" + str(Avg_change))\n",
    "\n",
    "print(f'Greatest Increase in Profits: {greatest_increase[0]} ({greatest_increase[1]})')\n",
    "\n",
    "print(f'Greatest Decrease in Profits: {greatest_decrease[0]} ({greatest_decrease[1]})')"
   ]
  },
  {
   "cell_type": "code",
   "execution_count": null,
   "metadata": {},
   "outputs": [],
   "source": []
  },
  {
   "cell_type": "code",
   "execution_count": null,
   "metadata": {},
   "outputs": [],
   "source": []
  }
 ],
 "metadata": {
  "kernelspec": {
   "display_name": "Python 3",
   "language": "python",
   "name": "python3"
  },
  "language_info": {
   "codemirror_mode": {
    "name": "ipython",
    "version": 3
   },
   "file_extension": ".py",
   "mimetype": "text/x-python",
   "name": "python",
   "nbconvert_exporter": "python",
   "pygments_lexer": "ipython3",
   "version": "3.8.3"
  }
 },
 "nbformat": 4,
 "nbformat_minor": 4
}
